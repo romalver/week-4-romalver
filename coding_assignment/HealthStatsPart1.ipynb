{
 "cells": [
  {
   "cell_type": "markdown",
   "metadata": {},
   "source": [
    "# Health Stats Part 1: Waist 2 Hip Ratios"
   ]
  },
  {
   "cell_type": "markdown",
   "metadata": {},
   "source": [
    "<!--- Write an explanation of the Waist To Hips Ratio statistic used by health professionals. Please include an explanation of what it is used for, exactly how it is calculated, and how to interpret the results. Note: Formmatting matters. Make this as professional as you can using Markdown.  --->\n",
    "\n",
    "<!--- feel free to use any web resources, including [Wikipedia](https://en.wikipedia.org/wiki/Waist%E2%80%93hip_ratio) or any other resources that you can find online. Just MAKE SURE you provide a link to every resource you decide to use. --->\n",
    "\n",
    "\n",
    "<!--- Including the formula, or that fancy diagram/table you see on wikipedia is DEFINITELY a good idea! How? The LaTeX equations section in [This link](https://jupyter-notebook.readthedocs.io/en/stable/examples/Notebook/Working%20With%20Markdown%20Cells.html) might help. --->\n",
    "\n",
    "<!--- For extra points, try to create a table similar to the one on the wikipedia page on your own. --->\n",
    "\n",
    "__EDIT THIS MARKDOWN CELL__\n",
    "\n",
    "W2H Ratio\n",
    "\n",
    "The waist-hip ratio or waist-to-hip ratio (WHR) is the dimensionless ratio of the circumference of the waist to that of the hips. This is calculated as waist measurement divided by hip measurement (W ÷ H). For example, a person with a 30″ (76 cm) waist and 38″ (97 cm) hips has a waist-hip ratio of about 0.78.\n",
    "\n",
    "<img src = 'https://upload.wikimedia.org/wikipedia/commons/3/34/Abdominal_obesity_in_men.jpg' />\n",
    "\n",
    "<table class=\"wikitable\">\n",
    "\n",
    "\n",
    "</th></tr>\n",
    "<tr>\n",
    "<th>Women</th>\n",
    "<th>Men\n",
    "</th>\n",
    "<th>Women</th>\n",
    "<th>Men\n",
    "</th>\n",
    "<th>Women</th>\n",
    "<th>Men\n",
    "</th></tr>\n",
    "<tr>\n",
    "<th>under-weight\n",
    "</th>\n",
    "<td style=\"background: #ececec; color: #2C2C2C; font-size: smaller; vertical-align: middle; text-align: center;\" class=\"unknown table-unknown\">?</td>\n",
    "<td style=\"background: #ececec; color: #2C2C2C; font-size: smaller; vertical-align: middle; text-align: center;\" class=\"unknown table-unknown\">?\n",
    "</td>\n",
    "<td style=\"background: #ececec; color: #2C2C2C; font-size: smaller; vertical-align: middle; text-align: center;\" class=\"unknown table-unknown\">?</td>\n",
    "<td style=\"background: #ececec; color: #2C2C2C; font-size: smaller; vertical-align: middle; text-align: center;\" class=\"unknown table-unknown\">?\n",
    "</td>\n",
    "<td style=\"background: #ececec; color: #2C2C2C; font-size: smaller; vertical-align: middle; text-align: center;\" class=\"unknown table-unknown\">?</td>\n",
    "<td style=\"background: #ececec; color: #2C2C2C; font-size: smaller; vertical-align: middle; text-align: center;\" class=\"unknown table-unknown\">?\n",
    "</td></tr>\n",
    "<tr>\n",
    "<th>normal weight\n",
    "</th>\n",
    "<td>&lt; 0.80</td>\n",
    "<td>&lt; 0.90\n",
    "</td>\n",
    "<td style=\"background: #ececec; color: #2C2C2C; font-size: smaller; vertical-align: middle; text-align: center;\" class=\"unknown table-unknown\">?</td>\n",
    "<td style=\"background: #ececec; color: #2C2C2C; font-size: smaller; vertical-align: middle; text-align: center;\" class=\"unknown table-unknown\">?\n",
    "</td>\n",
    "<td style=\"background: #ececec; color: #2C2C2C; font-size: smaller; vertical-align: middle; text-align: center;\" class=\"unknown table-unknown\">?</td>\n",
    "<td style=\"background: #ececec; color: #2C2C2C; font-size: smaller; vertical-align: middle; text-align: center;\" class=\"unknown table-unknown\">?\n",
    "</td></tr>\n",
    "<tr>\n",
    "<th>over-weight\n",
    "</th>\n",
    "<td>0.80–0.84</td>\n",
    "<td>0.90–0.99\n",
    "</td>\n",
    "<td style=\"background: #ececec; color: #2C2C2C; font-size: smaller; vertical-align: middle; text-align: center;\" class=\"unknown table-unknown\">?</td>\n",
    "<td style=\"background: #ececec; color: #2C2C2C; font-size: smaller; vertical-align: middle; text-align: center;\" class=\"unknown table-unknown\">?\n",
    "</td>\n",
    "<td style=\"background: #ececec; color: #2C2C2C; font-size: smaller; vertical-align: middle; text-align: center;\" class=\"unknown table-unknown\">?</td>\n",
    "<td style=\"background: #ececec; color: #2C2C2C; font-size: smaller; vertical-align: middle; text-align: center;\" class=\"unknown table-unknown\">?\n",
    "</td></tr>\n",
    "<tr>\n",
    "<th><a href=\"/wiki/Obesity\" title=\"Obesity\">obesity</a>\n",
    "</th>\n",
    "<td>&gt; 0.85</td>\n",
    "<td>&gt; 1.00\n",
    "</td>\n",
    "<td>&gt; 0.85</td>\n",
    "<td>&gt; 0.90\n",
    "</td>\n",
    "<td>&gt; 0.80</td>\n",
    "<td>&gt; 1.00\n",
    "</td></tr></tbody></table>\n",
    "\n",
    "## The Ratio is\n",
    "$ ratio_{w2h} = \\frac{w}{h} $\n",
    "\n",
    "## People are separated into Either Apple or Pear Shapped\n",
    "<table class=\"table table-responsive table-bordered table-striped table-hover\">\n",
    "            <thead>\n",
    "                <tr class=\"info\">\n",
    "                    <th>Men</th>\n",
    "                    <th>Women</th>\n",
    "                    <th>Body Shape</th>\n",
    "                    <th>Risk Level</th>\n",
    "                </tr>\n",
    "            </thead>\n",
    "            <tbody>\n",
    "                <tr>\n",
    "                    <td>\n",
    "                        Less than 0.90\n",
    "                    </td>\n",
    "                    <td>\n",
    "                        Less than 0.85\n",
    "                    </td>\n",
    "                    <td>Pear</td>\n",
    "                    <td>Low risk of metabolic complications</td>\n",
    "                </tr>\n",
    "                <tr>\n",
    "                    <td>\n",
    "                        Between 0.90 and 0.95\n",
    "                    </td>\n",
    "                    <td>\n",
    "                        Between 0.85 and 0.90\n",
    "                    </td>\n",
    "                    <td>Apple</td>\n",
    "                    <td>Moderate risk of metabolic complications like diabetes, heart disease, stroke, etc..</td>\n",
    "                </tr>\n",
    "                <tr>\n",
    "                    <td>\n",
    "                        Above 0.95\n",
    "                    </td>\n",
    "                    <td>\n",
    "                        Above 0.90\n",
    "                    </td>\n",
    "                    <td>Apple</td>\n",
    "                    <td>High risk of metabolic complications like diabetes, heart disease, stroke, etc..</td>\n",
    "                </tr>\n",
    "            </tbody>\n",
    "        </table>\n",
    "        \n",
    "*link: https://www.mytecbits.com/tools/medical/whrcalculator*\n",
    "\n",
    "\n"
   ]
  },
  {
   "cell_type": "markdown",
   "metadata": {},
   "source": [
    "## Source Data "
   ]
  },
  {
   "cell_type": "markdown",
   "metadata": {},
   "source": [
    "<!--- Replace the text below with a Markdown bullet list that defines the columns of the CSV file. Be sure to indicate the data type for each column. --->\n",
    "\n",
    "<!--- Example can be: ID, unique identifier of each person, integer. Remember you need to put this into a bullet list! How? [This link](https://jupyter-notebook.readthedocs.io/en/stable/examples/Notebook/Working%20With%20Markdown%20Cells.html) might help. --->\n",
    "\n",
    "<!--- These two markdown cells are required in almost any analytical report. --->\n",
    "\n",
    "__EDIT THIS MARKDOWN CELL__\n",
    "# The Columns of the CSV file are\n",
    "1.  **ID** -> int\n",
    "- **Waist** -> int\n",
    "- **Hip** -> int\n",
    "- **Gender** -> str\n",
    "- **H2W Ratio** -> float\n",
    "- **Shape** -> int\n"
   ]
  },
  {
   "cell_type": "markdown",
   "metadata": {},
   "source": [
    "## Data Import\n",
    "\n",
    "For whatever type of analysis, we need to read in the data. \n",
    "\n",
    "This is the basic way how Python read-in data. \n",
    "\n",
    "For more information regarding this part, read Chapter 7 in your PY4E textbook."
   ]
  },
  {
   "cell_type": "code",
   "execution_count": 38,
   "metadata": {},
   "outputs": [],
   "source": [
    "# Goal: Extract the data from the file\n",
    "\n",
    "# opens the w2h_data.csv for reading\n",
    "f = open(\"w2h_data.csv\", \"r\")\n",
    "\n",
    "# loads the file into a list of strings, one string per line\n",
    "raw_lines = list(f)\n",
    "\n",
    "# closes the file\n",
    "f.close()"
   ]
  },
  {
   "cell_type": "markdown",
   "metadata": {},
   "source": [
    "Data are not useful when they are in the wrong data type, or have wrong values, missing values... \n",
    "\n",
    "Clean up your data is an important step in any analysis."
   ]
  },
  {
   "cell_type": "code",
   "execution_count": 35,
   "metadata": {},
   "outputs": [],
   "source": [
    "# Goal: Scrub and convert the data, loading it into a new list called rows\n",
    "\n",
    "# Strips out newline '\\n' characters and converts to a list\n",
    "raw_rows = [r.rstrip('\\n').split(',') for r in raw_lines] # <--- Whoa. Why does this work? \n",
    "\n",
    "# Creates a new list `rows`, starting with just the column names\n",
    "rows = list() \n",
    "rows.append(raw_rows[0]);\n",
    "\n",
    "# Convert each `raw_row`, starting with the second\n",
    "for raw_row in raw_rows[1:]:\n",
    "    \n",
    "    # Note: the values in the `raw_row` list are all strings.\n",
    "    # Create a new list called `row` that converts each item in `raw_row` to the right data type  \n",
    "    row = [int(raw_row[0]),int(raw_row[1]),int(raw_row[2]),str(raw_row[3])] # FIX THIS; \n",
    "    # you'll need to use conversion functions above\n",
    "    # Append the new `row` to the `rows` list\n",
    "    rows.append(row)\n",
    "    \n",
    "# from here on out use the `rows` list instead of `raw_rows` or `raw_lines`\n",
    "# You may want to print out `rows` to test whether your code above worked"
   ]
  },
  {
   "cell_type": "markdown",
   "metadata": {},
   "source": [
    "## Calculations\n",
    "\n",
    "Sometimes, the data given to you do not contain the values you need directly, you will need to calculate them somehow. \n",
    "\n",
    "In this part, you calculate two new features namely `W2H Ratio` and `Shape`."
   ]
  },
  {
   "cell_type": "code",
   "execution_count": 36,
   "metadata": {
    "collapsed": true
   },
   "outputs": [],
   "source": [
    "# Goal: For each row of data calculate and store the w2h_ratio and shape.\n",
    "\n",
    "# Adds columns for the two new features\n",
    "rows[0].extend([\"W2H Ratio\",\"Shape\"])\n",
    "\n",
    "# For each row in the rows list, calculate the waist to hips ratio and shape\n",
    "for row in rows[1:]:\n",
    "    # Calculate the w2h_ratio \n",
    "    w2h_ratio = row[1]/row[2]\n",
    "    \n",
    "    # Based on the ratio and the gender, set the variable shape to either 'Apple' or 'Pear'\n",
    "    if row[3] == 'M' and w2h_ratio < 0.9:\n",
    "        shape = 'Pear' # FIX THIS; you will need to use a conditional\n",
    "    elif row[3] == 'F'and w2h_ratio < 0.85:\n",
    "        shape = 'Pear'\n",
    "    else:\n",
    "        shape = 'Apple'\n",
    "    \n",
    "    # Add the new data to the end of the row\n",
    "    row += [w2h_ratio, shape] # note: += is shorthand for the extend method used above\n",
    "    "
   ]
  },
  {
   "cell_type": "markdown",
   "metadata": {},
   "source": [
    "## Output\n",
    "\n",
    "In your analysis report, it is always helpful to display your data somehow.\n",
    "\n",
    "This is a very rudimentary way to displaying your data, including the original features and the new features you just calculated."
   ]
  },
  {
   "cell_type": "code",
   "execution_count": 37,
   "metadata": {},
   "outputs": [
    {
     "data": {
      "text/html": [
       "<table><tr><th>ID</th><th>Waist</th><th>Hip</th><th>Gender</th><th>W2H Ratio</th><th>Shape</th></tr><tr><td>1</td><td>30</td><td>32</td><td>M</td><td>0.9375</td><td>Apple</td></tr><tr><td>2</td><td>32</td><td>37</td><td>M</td><td>0.8648648648648649</td><td>Pear</td></tr><tr><td>3</td><td>30</td><td>36</td><td>M</td><td>0.8333333333333334</td><td>Pear</td></tr><tr><td>4</td><td>33</td><td>39</td><td>M</td><td>0.8461538461538461</td><td>Pear</td></tr><tr><td>5</td><td>29</td><td>33</td><td>M</td><td>0.8787878787878788</td><td>Pear</td></tr><tr><td>6</td><td>32</td><td>38</td><td>M</td><td>0.8421052631578947</td><td>Pear</td></tr><tr><td>7</td><td>33</td><td>42</td><td>M</td><td>0.7857142857142857</td><td>Pear</td></tr><tr><td>8</td><td>30</td><td>40</td><td>M</td><td>0.75</td><td>Pear</td></tr><tr><td>9</td><td>30</td><td>37</td><td>M</td><td>0.8108108108108109</td><td>Pear</td></tr><tr><td>10</td><td>32</td><td>39</td><td>M</td><td>0.8205128205128205</td><td>Pear</td></tr><tr><td>11</td><td>24</td><td>35</td><td>F</td><td>0.6857142857142857</td><td>Pear</td></tr><tr><td>12</td><td>25</td><td>37</td><td>F</td><td>0.6756756756756757</td><td>Pear</td></tr><tr><td>13</td><td>24</td><td>37</td><td>F</td><td>0.6486486486486487</td><td>Pear</td></tr><tr><td>14</td><td>22</td><td>34</td><td>F</td><td>0.6470588235294118</td><td>Pear</td></tr><tr><td>15</td><td>26</td><td>38</td><td>F</td><td>0.6842105263157895</td><td>Pear</td></tr><tr><td>16</td><td>26</td><td>37</td><td>F</td><td>0.7027027027027027</td><td>Pear</td></tr><tr><td>17</td><td>25</td><td>38</td><td>F</td><td>0.6578947368421053</td><td>Pear</td></tr><tr><td>18</td><td>26</td><td>37</td><td>F</td><td>0.7027027027027027</td><td>Pear</td></tr><tr><td>19</td><td>28</td><td>40</td><td>F</td><td>0.7</td><td>Pear</td></tr><tr><td>20</td><td>23</td><td>35</td><td>F</td><td>0.6571428571428571</td><td>Pear</td></tr></table>"
      ],
      "text/plain": [
       "<IPython.core.display.HTML object>"
      ]
     },
     "metadata": {},
     "output_type": "display_data"
    }
   ],
   "source": [
    "# Goal: pretty print the rows as an HTML table\n",
    "\n",
    "# Note: this works, but we can do this much better with pandas\n",
    "html_table = '<table><tr><th>'\n",
    "html_table += \"</th><th>\".join(rows[0])\n",
    "html_table += '</th></tr>'\n",
    "for row in rows[1:]:\n",
    "    html_table += \"<tr><td>\"\n",
    "    html_table += \"</td><td>\".join(str(col) for col in row)\n",
    "    html_table += \"</td></tr>\"\n",
    "html_table += \"</table>\"\n",
    "\n",
    "from IPython.display import HTML, display\n",
    "display(HTML(html_table))"
   ]
  },
  {
   "cell_type": "code",
   "execution_count": null,
   "metadata": {
    "collapsed": true
   },
   "outputs": [],
   "source": []
  },
  {
   "cell_type": "code",
   "execution_count": null,
   "metadata": {},
   "outputs": [],
   "source": []
  }
 ],
 "metadata": {
  "kernelspec": {
   "display_name": "Python 3",
   "language": "python",
   "name": "python3"
  },
  "language_info": {
   "codemirror_mode": {
    "name": "ipython",
    "version": 3
   },
   "file_extension": ".py",
   "mimetype": "text/x-python",
   "name": "python",
   "nbconvert_exporter": "python",
   "pygments_lexer": "ipython3",
   "version": "3.6.7"
  }
 },
 "nbformat": 4,
 "nbformat_minor": 2
}
